{
  "cells": [
    {
      "cell_type": "markdown",
      "metadata": {
        "id": "view-in-github",
        "colab_type": "text"
      },
      "source": [
        "<a href=\"https://colab.research.google.com/github/ggbaguidi/datascience_base_1/blob/main/notebooks/P1/P1C4%20-%20Transformez%20vos%20donn%C3%A9es%20en%20tableaux.ipynb\" target=\"_parent\"><img src=\"https://colab.research.google.com/assets/colab-badge.svg\" alt=\"Open In Colab\"/></a>"
      ]
    },
    {
      "cell_type": "markdown",
      "id": "79768348",
      "metadata": {
        "id": "79768348"
      },
      "source": [
        "![openclassrooms](https://s3.eu-west-1.amazonaws.com/course.oc-static.com/courses/6204541/1+HnqdJ-5ofxiPP9HIxdNdpw.jpeg)\n",
        "\n",
        "# Transformez vos données en tableaux\n",
        "\n",
        "Pour cette seconde tâche, nous travaillons toujours sur les mêmes 10 clients, mais nous avons cette fois trois informations à disposition sur chacun d’eux :\n",
        "- le revenu mensuel\n",
        "- l'âge du client\n",
        "- le nombre d’enfants à charge\n",
        "\n",
        "L’objectif va être de créer un tableau NumPy à partir de ces informations et de répondre aux différentes demandes formulées par notre service prêt en manipulant ce tableau avec les différentes techniques présentées tout au long de ce chapitre."
      ]
    },
    {
      "cell_type": "code",
      "execution_count": 1,
      "id": "87ad096c",
      "metadata": {
        "id": "87ad096c"
      },
      "outputs": [],
      "source": [
        "import numpy as np"
      ]
    },
    {
      "cell_type": "markdown",
      "id": "0c6779de",
      "metadata": {
        "id": "0c6779de"
      },
      "source": [
        "L'ensemble des ces informations sont rassemblées dans la liste `tableau` suivante :"
      ]
    },
    {
      "cell_type": "code",
      "execution_count": 2,
      "id": "5c4e902c",
      "metadata": {
        "colab": {
          "base_uri": "https://localhost:8080/",
          "height": 191
        },
        "id": "5c4e902c",
        "outputId": "0873bcdc-0bcb-4170-c4e5-e6f8346e8cf8"
      },
      "outputs": [
        {
          "output_type": "display_data",
          "data": {
            "text/plain": [
              "[[1800, 21, 0],\n",
              " [1500, 54, 2],\n",
              " [2200, 28, 3],\n",
              " [3000, 37, 1],\n",
              " [2172, 37, 2],\n",
              " [5000, 32, 0],\n",
              " [1400, 23, 0],\n",
              " [1200, 25, 1],\n",
              " [1100, 19, 0],\n",
              " [1300, 31, 2]]"
            ]
          },
          "metadata": {}
        }
      ],
      "source": [
        "hugo = [1800, 21, 0]\n",
        "richard = [1500, 54, 2]\n",
        "emilie = [2200, 28, 3]\n",
        "pierre = [3000, 37, 1]\n",
        "paul = [2172, 37, 2]\n",
        "deborah = [5000, 32, 0]\n",
        "yohann = [1400, 23, 0]\n",
        "anne = [1200, 25, 1]\n",
        "thibault = [1100, 19, 0]\n",
        "emmanuel = [1300, 31, 2]\n",
        "\n",
        "tableau = [hugo, richard, emilie, pierre, paul, deborah,\n",
        "           yohann, anne, thibault, emmanuel]\n",
        "\n",
        "display(tableau)"
      ]
    },
    {
      "cell_type": "markdown",
      "id": "6025932d",
      "metadata": {
        "id": "6025932d"
      },
      "source": [
        "A partir de cette liste, créez un array que vous nommerez `data` : "
      ]
    },
    {
      "cell_type": "markdown",
      "id": "4d00bdc9",
      "metadata": {
        "id": "4d00bdc9"
      },
      "source": [
        "# data = "
      ]
    },
    {
      "cell_type": "markdown",
      "id": "eaedaadf",
      "metadata": {
        "id": "eaedaadf"
      },
      "source": [
        "Paul souhaiterait contracter un prêt immobilier :\n",
        "- affichez les informations qui lui sont relatives. Pour rappel, Paul correspond à la 5ème ligne de nos données\n",
        "- calculez ses mensualités maximales, en sachant que le taux d'endettement maximum est de 35% (il ne pourra donc pas rembourser par mois plus de 35% de son revenu)."
      ]
    },
    {
      "cell_type": "code",
      "execution_count": 7,
      "id": "7923477b",
      "metadata": {
        "colab": {
          "base_uri": "https://localhost:8080/"
        },
        "id": "7923477b",
        "outputId": "6d123d61-d7e3-4e2a-ae37-b7be567fc3b0"
      },
      "outputs": [
        {
          "output_type": "stream",
          "name": "stdout",
          "text": [
            "[2172   37    2]\n",
            "760.2\n"
          ]
        }
      ],
      "source": [
        "data = np.array(tableau)\n",
        "paul = data[4, :]\n",
        "print(paul)\n",
        "#mensualité maximales\n",
        "print(round(data[4,0]*0.35, 2))"
      ]
    },
    {
      "cell_type": "markdown",
      "id": "8d53aba6",
      "metadata": {
        "id": "8d53aba6"
      },
      "source": [
        "Un nouveau client vient d'arriver, dont les informations sont les suivantes : "
      ]
    },
    {
      "cell_type": "code",
      "execution_count": 5,
      "id": "bdfd0e22",
      "metadata": {
        "id": "bdfd0e22"
      },
      "outputs": [],
      "source": [
        "louise = [1900, 31, 1]"
      ]
    },
    {
      "cell_type": "markdown",
      "id": "80b6778a",
      "metadata": {
        "id": "80b6778a"
      },
      "source": [
        "Ajoutez ces informations à la suite de votre array `data` :"
      ]
    },
    {
      "cell_type": "code",
      "execution_count": 10,
      "id": "4fa46ed6",
      "metadata": {
        "colab": {
          "base_uri": "https://localhost:8080/"
        },
        "id": "4fa46ed6",
        "outputId": "e4c2f142-4279-4ae0-87c8-464c6a0a7269"
      },
      "outputs": [
        {
          "output_type": "execute_result",
          "data": {
            "text/plain": [
              "array([[1800,   21,    0],\n",
              "       [1500,   54,    2],\n",
              "       [2200,   28,    3],\n",
              "       [3000,   37,    1],\n",
              "       [2172,   37,    2],\n",
              "       [5000,   32,    0],\n",
              "       [1400,   23,    0],\n",
              "       [1200,   25,    1],\n",
              "       [1100,   19,    0],\n",
              "       [1300,   31,    2],\n",
              "       [1900,   31,    1]])"
            ]
          },
          "metadata": {},
          "execution_count": 10
        }
      ],
      "source": [
        "data = np.vstack((data, louise))\n",
        "data"
      ]
    },
    {
      "cell_type": "markdown",
      "id": "e8b3fa7f",
      "metadata": {
        "id": "e8b3fa7f"
      },
      "source": [
        "Stockez enfin l'ensemble des informations de salaire de notre clientèle dans une variable `revenus` :"
      ]
    },
    {
      "cell_type": "code",
      "execution_count": 11,
      "id": "ff79413c",
      "metadata": {
        "colab": {
          "base_uri": "https://localhost:8080/"
        },
        "id": "ff79413c",
        "outputId": "eb349332-ffa9-4eb0-ac92-30cdf0a540f1"
      },
      "outputs": [
        {
          "output_type": "stream",
          "name": "stdout",
          "text": [
            "[1800 1500 2200 3000 2172 5000 1400 1200 1100 1300 1900]\n"
          ]
        }
      ],
      "source": [
        "revenus = data[:, 0]\n",
        "print(revenus)"
      ]
    },
    {
      "cell_type": "markdown",
      "id": "66eb8d15",
      "metadata": {
        "id": "66eb8d15"
      },
      "source": [
        "Bien joué ! \n",
        "\n",
        "Comme d'habitude, je vous propose de retrouver la correction ci-contre proposant une solution complète, que ce soit pour vérifier votre travail ou comprendre un point qui aurait été bloquant : \n",
        "[lien vers la solution](https://colab.research.google.com/github/OpenClassrooms-Student-Center/fr-4452741-decouvrez-les-librairies-python-pour-la-data-science/blob/main/notebooks/P1/P1C4%20-%20Transformez%20vos%20donn%C3%A9es%20en%20tableaux%20-%20correction.ipynb)."
      ]
    }
  ],
  "metadata": {
    "kernelspec": {
      "display_name": "Python 3 (ipykernel)",
      "language": "python",
      "name": "python3"
    },
    "language_info": {
      "codemirror_mode": {
        "name": "ipython",
        "version": 3
      },
      "file_extension": ".py",
      "mimetype": "text/x-python",
      "name": "python",
      "nbconvert_exporter": "python",
      "pygments_lexer": "ipython3",
      "version": "3.9.13"
    },
    "colab": {
      "provenance": [],
      "include_colab_link": true
    }
  },
  "nbformat": 4,
  "nbformat_minor": 5
}