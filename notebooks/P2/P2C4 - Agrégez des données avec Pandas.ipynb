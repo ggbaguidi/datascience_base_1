{
  "cells": [
    {
      "cell_type": "markdown",
      "metadata": {
        "id": "view-in-github",
        "colab_type": "text"
      },
      "source": [
        "<a href=\"https://colab.research.google.com/github/ggbaguidi/datascience_base_1/blob/main/notebooks/P2/P2C4%20-%20Agr%C3%A9gez%20des%20donn%C3%A9es%20avec%20Pandas.ipynb\" target=\"_parent\"><img src=\"https://colab.research.google.com/assets/colab-badge.svg\" alt=\"Open In Colab\"/></a>"
      ]
    },
    {
      "cell_type": "markdown",
      "id": "8767208c",
      "metadata": {
        "id": "8767208c"
      },
      "source": [
        "![openclassrooms](https://s3.eu-west-1.amazonaws.com/course.oc-static.com/courses/6204541/1+HnqdJ-5ofxiPP9HIxdNdpw.jpeg)\n",
        "\n",
        "# Agrégez des données avec Pandas\n",
        "\n",
        "Suite aux résultats que vous avez fourni précédemment, le responsable du service prêt revient vous voir avec une remarque : vous l’avez probablement remarqué, mais certains clients ont contracté plusieurs prêts au sein de notre établissement. Cela fausse donc potentiellement les calculs réalisés précédemment.\n",
        "\n",
        "Il formule donc des demandes additionnelles, auxquelles vous allez devoir répondre en appliquant diverses agrégations."
      ]
    },
    {
      "cell_type": "code",
      "execution_count": 1,
      "id": "41bb315c",
      "metadata": {
        "id": "41bb315c"
      },
      "outputs": [],
      "source": [
        "import numpy as np\n",
        "import pandas as pd"
      ]
    },
    {
      "cell_type": "code",
      "execution_count": 2,
      "id": "921222b9",
      "metadata": {
        "id": "921222b9",
        "outputId": "439fe344-a298-4e72-aa4c-3f2f63c4b5a0",
        "colab": {
          "base_uri": "https://localhost:8080/",
          "height": 206
        }
      },
      "outputs": [
        {
          "output_type": "execute_result",
          "data": {
            "text/plain": [
              "   identifiant      ville     CP  revenu  remboursement  duree        type  \\\n",
              "0            0   TOULOUSE  31100  3669.0        1130.05    240  immobilier   \n",
              "1            1      PARIS  75009  5310.0         240.00     64  automobile   \n",
              "2            1      PARIS  75009  5310.0        1247.85    300  immobilier   \n",
              "3            2  MARSEILLE  13010  1873.0         552.54    240  immobilier   \n",
              "4            3  MARSEILLE  13010  1684.0         586.03    180  immobilier   \n",
              "\n",
              "   taux_interet  taux_endettement  cout_total  benefices risque  \n",
              "0         1.168             30.80    271212.0     131.99    Non  \n",
              "1         3.701              4.52     15360.0      23.69    Non  \n",
              "2         1.173             23.50    374355.0     182.97    Non  \n",
              "3         0.972             29.50    132609.6      53.71    Non  \n",
              "4         1.014             34.80    105485.4      44.57    Non  "
            ],
            "text/html": [
              "\n",
              "  <div id=\"df-559be797-cfad-4a9c-b759-f8db0ac35d83\">\n",
              "    <div class=\"colab-df-container\">\n",
              "      <div>\n",
              "<style scoped>\n",
              "    .dataframe tbody tr th:only-of-type {\n",
              "        vertical-align: middle;\n",
              "    }\n",
              "\n",
              "    .dataframe tbody tr th {\n",
              "        vertical-align: top;\n",
              "    }\n",
              "\n",
              "    .dataframe thead th {\n",
              "        text-align: right;\n",
              "    }\n",
              "</style>\n",
              "<table border=\"1\" class=\"dataframe\">\n",
              "  <thead>\n",
              "    <tr style=\"text-align: right;\">\n",
              "      <th></th>\n",
              "      <th>identifiant</th>\n",
              "      <th>ville</th>\n",
              "      <th>CP</th>\n",
              "      <th>revenu</th>\n",
              "      <th>remboursement</th>\n",
              "      <th>duree</th>\n",
              "      <th>type</th>\n",
              "      <th>taux_interet</th>\n",
              "      <th>taux_endettement</th>\n",
              "      <th>cout_total</th>\n",
              "      <th>benefices</th>\n",
              "      <th>risque</th>\n",
              "    </tr>\n",
              "  </thead>\n",
              "  <tbody>\n",
              "    <tr>\n",
              "      <th>0</th>\n",
              "      <td>0</td>\n",
              "      <td>TOULOUSE</td>\n",
              "      <td>31100</td>\n",
              "      <td>3669.0</td>\n",
              "      <td>1130.05</td>\n",
              "      <td>240</td>\n",
              "      <td>immobilier</td>\n",
              "      <td>1.168</td>\n",
              "      <td>30.80</td>\n",
              "      <td>271212.0</td>\n",
              "      <td>131.99</td>\n",
              "      <td>Non</td>\n",
              "    </tr>\n",
              "    <tr>\n",
              "      <th>1</th>\n",
              "      <td>1</td>\n",
              "      <td>PARIS</td>\n",
              "      <td>75009</td>\n",
              "      <td>5310.0</td>\n",
              "      <td>240.00</td>\n",
              "      <td>64</td>\n",
              "      <td>automobile</td>\n",
              "      <td>3.701</td>\n",
              "      <td>4.52</td>\n",
              "      <td>15360.0</td>\n",
              "      <td>23.69</td>\n",
              "      <td>Non</td>\n",
              "    </tr>\n",
              "    <tr>\n",
              "      <th>2</th>\n",
              "      <td>1</td>\n",
              "      <td>PARIS</td>\n",
              "      <td>75009</td>\n",
              "      <td>5310.0</td>\n",
              "      <td>1247.85</td>\n",
              "      <td>300</td>\n",
              "      <td>immobilier</td>\n",
              "      <td>1.173</td>\n",
              "      <td>23.50</td>\n",
              "      <td>374355.0</td>\n",
              "      <td>182.97</td>\n",
              "      <td>Non</td>\n",
              "    </tr>\n",
              "    <tr>\n",
              "      <th>3</th>\n",
              "      <td>2</td>\n",
              "      <td>MARSEILLE</td>\n",
              "      <td>13010</td>\n",
              "      <td>1873.0</td>\n",
              "      <td>552.54</td>\n",
              "      <td>240</td>\n",
              "      <td>immobilier</td>\n",
              "      <td>0.972</td>\n",
              "      <td>29.50</td>\n",
              "      <td>132609.6</td>\n",
              "      <td>53.71</td>\n",
              "      <td>Non</td>\n",
              "    </tr>\n",
              "    <tr>\n",
              "      <th>4</th>\n",
              "      <td>3</td>\n",
              "      <td>MARSEILLE</td>\n",
              "      <td>13010</td>\n",
              "      <td>1684.0</td>\n",
              "      <td>586.03</td>\n",
              "      <td>180</td>\n",
              "      <td>immobilier</td>\n",
              "      <td>1.014</td>\n",
              "      <td>34.80</td>\n",
              "      <td>105485.4</td>\n",
              "      <td>44.57</td>\n",
              "      <td>Non</td>\n",
              "    </tr>\n",
              "  </tbody>\n",
              "</table>\n",
              "</div>\n",
              "      <button class=\"colab-df-convert\" onclick=\"convertToInteractive('df-559be797-cfad-4a9c-b759-f8db0ac35d83')\"\n",
              "              title=\"Convert this dataframe to an interactive table.\"\n",
              "              style=\"display:none;\">\n",
              "        \n",
              "  <svg xmlns=\"http://www.w3.org/2000/svg\" height=\"24px\"viewBox=\"0 0 24 24\"\n",
              "       width=\"24px\">\n",
              "    <path d=\"M0 0h24v24H0V0z\" fill=\"none\"/>\n",
              "    <path d=\"M18.56 5.44l.94 2.06.94-2.06 2.06-.94-2.06-.94-.94-2.06-.94 2.06-2.06.94zm-11 1L8.5 8.5l.94-2.06 2.06-.94-2.06-.94L8.5 2.5l-.94 2.06-2.06.94zm10 10l.94 2.06.94-2.06 2.06-.94-2.06-.94-.94-2.06-.94 2.06-2.06.94z\"/><path d=\"M17.41 7.96l-1.37-1.37c-.4-.4-.92-.59-1.43-.59-.52 0-1.04.2-1.43.59L10.3 9.45l-7.72 7.72c-.78.78-.78 2.05 0 2.83L4 21.41c.39.39.9.59 1.41.59.51 0 1.02-.2 1.41-.59l7.78-7.78 2.81-2.81c.8-.78.8-2.07 0-2.86zM5.41 20L4 18.59l7.72-7.72 1.47 1.35L5.41 20z\"/>\n",
              "  </svg>\n",
              "      </button>\n",
              "      \n",
              "  <style>\n",
              "    .colab-df-container {\n",
              "      display:flex;\n",
              "      flex-wrap:wrap;\n",
              "      gap: 12px;\n",
              "    }\n",
              "\n",
              "    .colab-df-convert {\n",
              "      background-color: #E8F0FE;\n",
              "      border: none;\n",
              "      border-radius: 50%;\n",
              "      cursor: pointer;\n",
              "      display: none;\n",
              "      fill: #1967D2;\n",
              "      height: 32px;\n",
              "      padding: 0 0 0 0;\n",
              "      width: 32px;\n",
              "    }\n",
              "\n",
              "    .colab-df-convert:hover {\n",
              "      background-color: #E2EBFA;\n",
              "      box-shadow: 0px 1px 2px rgba(60, 64, 67, 0.3), 0px 1px 3px 1px rgba(60, 64, 67, 0.15);\n",
              "      fill: #174EA6;\n",
              "    }\n",
              "\n",
              "    [theme=dark] .colab-df-convert {\n",
              "      background-color: #3B4455;\n",
              "      fill: #D2E3FC;\n",
              "    }\n",
              "\n",
              "    [theme=dark] .colab-df-convert:hover {\n",
              "      background-color: #434B5C;\n",
              "      box-shadow: 0px 1px 3px 1px rgba(0, 0, 0, 0.15);\n",
              "      filter: drop-shadow(0px 1px 2px rgba(0, 0, 0, 0.3));\n",
              "      fill: #FFFFFF;\n",
              "    }\n",
              "  </style>\n",
              "\n",
              "      <script>\n",
              "        const buttonEl =\n",
              "          document.querySelector('#df-559be797-cfad-4a9c-b759-f8db0ac35d83 button.colab-df-convert');\n",
              "        buttonEl.style.display =\n",
              "          google.colab.kernel.accessAllowed ? 'block' : 'none';\n",
              "\n",
              "        async function convertToInteractive(key) {\n",
              "          const element = document.querySelector('#df-559be797-cfad-4a9c-b759-f8db0ac35d83');\n",
              "          const dataTable =\n",
              "            await google.colab.kernel.invokeFunction('convertToInteractive',\n",
              "                                                     [key], {});\n",
              "          if (!dataTable) return;\n",
              "\n",
              "          const docLinkHtml = 'Like what you see? Visit the ' +\n",
              "            '<a target=\"_blank\" href=https://colab.research.google.com/notebooks/data_table.ipynb>data table notebook</a>'\n",
              "            + ' to learn more about interactive tables.';\n",
              "          element.innerHTML = '';\n",
              "          dataTable['output_type'] = 'display_data';\n",
              "          await google.colab.output.renderOutput(dataTable, element);\n",
              "          const docLink = document.createElement('div');\n",
              "          docLink.innerHTML = docLinkHtml;\n",
              "          element.appendChild(docLink);\n",
              "        }\n",
              "      </script>\n",
              "    </div>\n",
              "  </div>\n",
              "  "
            ]
          },
          "metadata": {},
          "execution_count": 2
        }
      ],
      "source": [
        "# traitement réalisés précédemment\n",
        "prets = pd.read_csv('https://raw.githubusercontent.com/OpenClassrooms-Student-Center/fr-4452741-decouvrez-les-librairies-python-pour-la-data-science/main/data/prets.csv')\n",
        "\n",
        "# calcul du taux d'endettement\n",
        "prets['taux_endettement'] = round(prets['remboursement'] * 100 / prets['revenu'], 2)\n",
        "\n",
        "# renommer taux en taux_interet\n",
        "prets.rename(columns={'taux':'taux_interet'}, inplace=True)\n",
        "\n",
        "# calculer le cout total du pret\n",
        "prets['cout_total'] = prets['remboursement'] * prets['duree']\n",
        "\n",
        "# calculer les bénéfices mensuels réalisés\n",
        "prets['benefices'] = round((prets['cout_total'] * prets['taux_interet']/100)/(24), 2)\n",
        "\n",
        "# création d'une variable risque\n",
        "prets['risque'] = 'Non'\n",
        "prets.loc[prets['taux_endettement'] > 35, 'risque'] = 'Oui'\n",
        "\n",
        "prets.head()"
      ]
    },
    {
      "cell_type": "markdown",
      "id": "e57d3fb8",
      "metadata": {
        "id": "e57d3fb8"
      },
      "source": [
        "Pourriez vous créez un dataframe profil client pour pallier ce problème ?\n",
        "\n",
        "Par profil client, nous entendons un dataframe où il y n'y a qu'une seule ligne par client, avec le résumé de ses informations (somme remboursement, du taux d'endettement, du cout_total et des bénéfices réalisés)"
      ]
    },
    {
      "cell_type": "code",
      "execution_count": 13,
      "id": "b82b5cd9",
      "metadata": {
        "id": "b82b5cd9",
        "outputId": "56f912fb-e615-4d36-fc9b-99352ee0ec4e",
        "colab": {
          "base_uri": "https://localhost:8080/",
          "height": 241
        }
      },
      "outputs": [
        {
          "output_type": "stream",
          "name": "stderr",
          "text": [
            "<ipython-input-13-09621ad4cf6e>:1: FutureWarning: Indexing with multiple keys (implicitly converted to a tuple of keys) will be deprecated, use a list instead.\n",
            "  profil_client = prets.groupby('identifiant')['remboursement', 'taux_endettement', 'cout_total', 'benefices'].sum()\n"
          ]
        },
        {
          "output_type": "execute_result",
          "data": {
            "text/plain": [
              "   identifiant  remboursement  taux_endettement  cout_total  benefices\n",
              "0            0        1130.05             30.80    271212.0     131.99\n",
              "1            1        1487.85             28.02    389715.0     206.66\n",
              "2            2         552.54             29.50    132609.6      53.71\n",
              "3            3         586.03             34.80    105485.4      44.57\n",
              "4            4         423.61             28.70    101666.4      51.21"
            ],
            "text/html": [
              "\n",
              "  <div id=\"df-c74a053f-c7a0-4d1c-8cdd-3d90597e7a4a\">\n",
              "    <div class=\"colab-df-container\">\n",
              "      <div>\n",
              "<style scoped>\n",
              "    .dataframe tbody tr th:only-of-type {\n",
              "        vertical-align: middle;\n",
              "    }\n",
              "\n",
              "    .dataframe tbody tr th {\n",
              "        vertical-align: top;\n",
              "    }\n",
              "\n",
              "    .dataframe thead th {\n",
              "        text-align: right;\n",
              "    }\n",
              "</style>\n",
              "<table border=\"1\" class=\"dataframe\">\n",
              "  <thead>\n",
              "    <tr style=\"text-align: right;\">\n",
              "      <th></th>\n",
              "      <th>identifiant</th>\n",
              "      <th>remboursement</th>\n",
              "      <th>taux_endettement</th>\n",
              "      <th>cout_total</th>\n",
              "      <th>benefices</th>\n",
              "    </tr>\n",
              "  </thead>\n",
              "  <tbody>\n",
              "    <tr>\n",
              "      <th>0</th>\n",
              "      <td>0</td>\n",
              "      <td>1130.05</td>\n",
              "      <td>30.80</td>\n",
              "      <td>271212.0</td>\n",
              "      <td>131.99</td>\n",
              "    </tr>\n",
              "    <tr>\n",
              "      <th>1</th>\n",
              "      <td>1</td>\n",
              "      <td>1487.85</td>\n",
              "      <td>28.02</td>\n",
              "      <td>389715.0</td>\n",
              "      <td>206.66</td>\n",
              "    </tr>\n",
              "    <tr>\n",
              "      <th>2</th>\n",
              "      <td>2</td>\n",
              "      <td>552.54</td>\n",
              "      <td>29.50</td>\n",
              "      <td>132609.6</td>\n",
              "      <td>53.71</td>\n",
              "    </tr>\n",
              "    <tr>\n",
              "      <th>3</th>\n",
              "      <td>3</td>\n",
              "      <td>586.03</td>\n",
              "      <td>34.80</td>\n",
              "      <td>105485.4</td>\n",
              "      <td>44.57</td>\n",
              "    </tr>\n",
              "    <tr>\n",
              "      <th>4</th>\n",
              "      <td>4</td>\n",
              "      <td>423.61</td>\n",
              "      <td>28.70</td>\n",
              "      <td>101666.4</td>\n",
              "      <td>51.21</td>\n",
              "    </tr>\n",
              "  </tbody>\n",
              "</table>\n",
              "</div>\n",
              "      <button class=\"colab-df-convert\" onclick=\"convertToInteractive('df-c74a053f-c7a0-4d1c-8cdd-3d90597e7a4a')\"\n",
              "              title=\"Convert this dataframe to an interactive table.\"\n",
              "              style=\"display:none;\">\n",
              "        \n",
              "  <svg xmlns=\"http://www.w3.org/2000/svg\" height=\"24px\"viewBox=\"0 0 24 24\"\n",
              "       width=\"24px\">\n",
              "    <path d=\"M0 0h24v24H0V0z\" fill=\"none\"/>\n",
              "    <path d=\"M18.56 5.44l.94 2.06.94-2.06 2.06-.94-2.06-.94-.94-2.06-.94 2.06-2.06.94zm-11 1L8.5 8.5l.94-2.06 2.06-.94-2.06-.94L8.5 2.5l-.94 2.06-2.06.94zm10 10l.94 2.06.94-2.06 2.06-.94-2.06-.94-.94-2.06-.94 2.06-2.06.94z\"/><path d=\"M17.41 7.96l-1.37-1.37c-.4-.4-.92-.59-1.43-.59-.52 0-1.04.2-1.43.59L10.3 9.45l-7.72 7.72c-.78.78-.78 2.05 0 2.83L4 21.41c.39.39.9.59 1.41.59.51 0 1.02-.2 1.41-.59l7.78-7.78 2.81-2.81c.8-.78.8-2.07 0-2.86zM5.41 20L4 18.59l7.72-7.72 1.47 1.35L5.41 20z\"/>\n",
              "  </svg>\n",
              "      </button>\n",
              "      \n",
              "  <style>\n",
              "    .colab-df-container {\n",
              "      display:flex;\n",
              "      flex-wrap:wrap;\n",
              "      gap: 12px;\n",
              "    }\n",
              "\n",
              "    .colab-df-convert {\n",
              "      background-color: #E8F0FE;\n",
              "      border: none;\n",
              "      border-radius: 50%;\n",
              "      cursor: pointer;\n",
              "      display: none;\n",
              "      fill: #1967D2;\n",
              "      height: 32px;\n",
              "      padding: 0 0 0 0;\n",
              "      width: 32px;\n",
              "    }\n",
              "\n",
              "    .colab-df-convert:hover {\n",
              "      background-color: #E2EBFA;\n",
              "      box-shadow: 0px 1px 2px rgba(60, 64, 67, 0.3), 0px 1px 3px 1px rgba(60, 64, 67, 0.15);\n",
              "      fill: #174EA6;\n",
              "    }\n",
              "\n",
              "    [theme=dark] .colab-df-convert {\n",
              "      background-color: #3B4455;\n",
              "      fill: #D2E3FC;\n",
              "    }\n",
              "\n",
              "    [theme=dark] .colab-df-convert:hover {\n",
              "      background-color: #434B5C;\n",
              "      box-shadow: 0px 1px 3px 1px rgba(0, 0, 0, 0.15);\n",
              "      filter: drop-shadow(0px 1px 2px rgba(0, 0, 0, 0.3));\n",
              "      fill: #FFFFFF;\n",
              "    }\n",
              "  </style>\n",
              "\n",
              "      <script>\n",
              "        const buttonEl =\n",
              "          document.querySelector('#df-c74a053f-c7a0-4d1c-8cdd-3d90597e7a4a button.colab-df-convert');\n",
              "        buttonEl.style.display =\n",
              "          google.colab.kernel.accessAllowed ? 'block' : 'none';\n",
              "\n",
              "        async function convertToInteractive(key) {\n",
              "          const element = document.querySelector('#df-c74a053f-c7a0-4d1c-8cdd-3d90597e7a4a');\n",
              "          const dataTable =\n",
              "            await google.colab.kernel.invokeFunction('convertToInteractive',\n",
              "                                                     [key], {});\n",
              "          if (!dataTable) return;\n",
              "\n",
              "          const docLinkHtml = 'Like what you see? Visit the ' +\n",
              "            '<a target=\"_blank\" href=https://colab.research.google.com/notebooks/data_table.ipynb>data table notebook</a>'\n",
              "            + ' to learn more about interactive tables.';\n",
              "          element.innerHTML = '';\n",
              "          dataTable['output_type'] = 'display_data';\n",
              "          await google.colab.output.renderOutput(dataTable, element);\n",
              "          const docLink = document.createElement('div');\n",
              "          docLink.innerHTML = docLinkHtml;\n",
              "          element.appendChild(docLink);\n",
              "        }\n",
              "      </script>\n",
              "    </div>\n",
              "  </div>\n",
              "  "
            ]
          },
          "metadata": {},
          "execution_count": 13
        }
      ],
      "source": [
        "profil_client = prets.groupby('identifiant')['remboursement', 'taux_endettement', 'cout_total', 'benefices'].sum()\n",
        "profil_client.reset_index(inplace=True)\n",
        "profil_client.head()"
      ]
    },
    {
      "cell_type": "code",
      "source": [
        "type(profil_client)"
      ],
      "metadata": {
        "id": "1_84LiKhlg3S",
        "outputId": "30e97653-ce61-4db7-949e-128ad058e90d",
        "colab": {
          "base_uri": "https://localhost:8080/"
        }
      },
      "id": "1_84LiKhlg3S",
      "execution_count": 10,
      "outputs": [
        {
          "output_type": "execute_result",
          "data": {
            "text/plain": [
              "pandas.core.frame.DataFrame"
            ]
          },
          "metadata": {},
          "execution_count": 10
        }
      ]
    },
    {
      "cell_type": "markdown",
      "id": "3baaf664",
      "metadata": {
        "id": "3baaf664"
      },
      "source": [
        "Recalculez le nombre exact de personnes en situation bancaire risquée à partir du taux d'endettemment :"
      ]
    },
    {
      "cell_type": "code",
      "execution_count": 14,
      "id": "2e33ebba",
      "metadata": {
        "id": "2e33ebba",
        "outputId": "3c7550b4-1d83-430c-b1c5-0d7ac863da9f",
        "colab": {
          "base_uri": "https://localhost:8080/"
        }
      },
      "outputs": [
        {
          "output_type": "stream",
          "name": "stdout",
          "text": [
            "le nombre exact de personnes en situation bancaire risquée à partir du taux d'endettemment est : 62\n"
          ]
        }
      ],
      "source": [
        "print(\"le nombre exact de personnes en situation bancaire risquée à partir du taux d'endettemment est : {}\".format(len(profil_client.loc[profil_client['taux_endettement'] > 35, :])))"
      ]
    },
    {
      "cell_type": "markdown",
      "id": "808ee2d4",
      "metadata": {
        "id": "808ee2d4"
      },
      "source": [
        "Calculez le bénéfice dégagé par chacune de nos agences, par types de prêts. Vous présenterez vos résultats sous la forme d'un tableau simple (via un `group_by`) :"
      ]
    },
    {
      "cell_type": "code",
      "execution_count": 16,
      "id": "368db50b",
      "metadata": {
        "id": "368db50b",
        "outputId": "d39a6de1-e517-4ea5-b939-188ff2ecf901",
        "colab": {
          "base_uri": "https://localhost:8080/"
        }
      },
      "outputs": [
        {
          "output_type": "execute_result",
          "data": {
            "text/plain": [
              "ville      type      \n",
              "BORDEAUX   immobilier    1681.32\n",
              "LYON       automobile      47.39\n",
              "           immobilier    2967.41\n",
              "MARSEILLE  automobile      61.36\n",
              "           immobilier    4334.55\n",
              "NICE       automobile      31.15\n",
              "           immobilier    2651.60\n",
              "PARIS      automobile      99.50\n",
              "           immobilier    9916.85\n",
              "TOULOUSE   automobile      61.22\n",
              "           immobilier    2076.85\n",
              "Name: benefices, dtype: float64"
            ]
          },
          "metadata": {},
          "execution_count": 16
        }
      ],
      "source": [
        "prets.groupby(['ville', 'type'])['benefices'].sum()"
      ]
    },
    {
      "cell_type": "markdown",
      "id": "fde89323",
      "metadata": {
        "id": "fde89323"
      },
      "source": [
        "Pour aller plus loin, on souhaite avoir un tableau à double entrée (via un `pivot_table`) présentant cette fois ci les bénéfices moyen réalisés par chaque agence, pour chaque type de prêt :"
      ]
    },
    {
      "cell_type": "code",
      "execution_count": 17,
      "id": "a6b1b534",
      "metadata": {
        "id": "a6b1b534",
        "outputId": "0c60639c-e70c-4029-a7bf-49717891f0de",
        "colab": {
          "base_uri": "https://localhost:8080/",
          "height": 269
        }
      },
      "outputs": [
        {
          "output_type": "execute_result",
          "data": {
            "text/plain": [
              "type       automobile  immobilier\n",
              "ville                            \n",
              "BORDEAUX          NaN     1681.32\n",
              "LYON            47.39     2967.41\n",
              "MARSEILLE       61.36     4334.55\n",
              "NICE            31.15     2651.60\n",
              "PARIS           99.50     9916.85\n",
              "TOULOUSE        61.22     2076.85"
            ],
            "text/html": [
              "\n",
              "  <div id=\"df-0f867e0c-c0de-40ad-9f74-46aa2d521d18\">\n",
              "    <div class=\"colab-df-container\">\n",
              "      <div>\n",
              "<style scoped>\n",
              "    .dataframe tbody tr th:only-of-type {\n",
              "        vertical-align: middle;\n",
              "    }\n",
              "\n",
              "    .dataframe tbody tr th {\n",
              "        vertical-align: top;\n",
              "    }\n",
              "\n",
              "    .dataframe thead th {\n",
              "        text-align: right;\n",
              "    }\n",
              "</style>\n",
              "<table border=\"1\" class=\"dataframe\">\n",
              "  <thead>\n",
              "    <tr style=\"text-align: right;\">\n",
              "      <th>type</th>\n",
              "      <th>automobile</th>\n",
              "      <th>immobilier</th>\n",
              "    </tr>\n",
              "    <tr>\n",
              "      <th>ville</th>\n",
              "      <th></th>\n",
              "      <th></th>\n",
              "    </tr>\n",
              "  </thead>\n",
              "  <tbody>\n",
              "    <tr>\n",
              "      <th>BORDEAUX</th>\n",
              "      <td>NaN</td>\n",
              "      <td>1681.32</td>\n",
              "    </tr>\n",
              "    <tr>\n",
              "      <th>LYON</th>\n",
              "      <td>47.39</td>\n",
              "      <td>2967.41</td>\n",
              "    </tr>\n",
              "    <tr>\n",
              "      <th>MARSEILLE</th>\n",
              "      <td>61.36</td>\n",
              "      <td>4334.55</td>\n",
              "    </tr>\n",
              "    <tr>\n",
              "      <th>NICE</th>\n",
              "      <td>31.15</td>\n",
              "      <td>2651.60</td>\n",
              "    </tr>\n",
              "    <tr>\n",
              "      <th>PARIS</th>\n",
              "      <td>99.50</td>\n",
              "      <td>9916.85</td>\n",
              "    </tr>\n",
              "    <tr>\n",
              "      <th>TOULOUSE</th>\n",
              "      <td>61.22</td>\n",
              "      <td>2076.85</td>\n",
              "    </tr>\n",
              "  </tbody>\n",
              "</table>\n",
              "</div>\n",
              "      <button class=\"colab-df-convert\" onclick=\"convertToInteractive('df-0f867e0c-c0de-40ad-9f74-46aa2d521d18')\"\n",
              "              title=\"Convert this dataframe to an interactive table.\"\n",
              "              style=\"display:none;\">\n",
              "        \n",
              "  <svg xmlns=\"http://www.w3.org/2000/svg\" height=\"24px\"viewBox=\"0 0 24 24\"\n",
              "       width=\"24px\">\n",
              "    <path d=\"M0 0h24v24H0V0z\" fill=\"none\"/>\n",
              "    <path d=\"M18.56 5.44l.94 2.06.94-2.06 2.06-.94-2.06-.94-.94-2.06-.94 2.06-2.06.94zm-11 1L8.5 8.5l.94-2.06 2.06-.94-2.06-.94L8.5 2.5l-.94 2.06-2.06.94zm10 10l.94 2.06.94-2.06 2.06-.94-2.06-.94-.94-2.06-.94 2.06-2.06.94z\"/><path d=\"M17.41 7.96l-1.37-1.37c-.4-.4-.92-.59-1.43-.59-.52 0-1.04.2-1.43.59L10.3 9.45l-7.72 7.72c-.78.78-.78 2.05 0 2.83L4 21.41c.39.39.9.59 1.41.59.51 0 1.02-.2 1.41-.59l7.78-7.78 2.81-2.81c.8-.78.8-2.07 0-2.86zM5.41 20L4 18.59l7.72-7.72 1.47 1.35L5.41 20z\"/>\n",
              "  </svg>\n",
              "      </button>\n",
              "      \n",
              "  <style>\n",
              "    .colab-df-container {\n",
              "      display:flex;\n",
              "      flex-wrap:wrap;\n",
              "      gap: 12px;\n",
              "    }\n",
              "\n",
              "    .colab-df-convert {\n",
              "      background-color: #E8F0FE;\n",
              "      border: none;\n",
              "      border-radius: 50%;\n",
              "      cursor: pointer;\n",
              "      display: none;\n",
              "      fill: #1967D2;\n",
              "      height: 32px;\n",
              "      padding: 0 0 0 0;\n",
              "      width: 32px;\n",
              "    }\n",
              "\n",
              "    .colab-df-convert:hover {\n",
              "      background-color: #E2EBFA;\n",
              "      box-shadow: 0px 1px 2px rgba(60, 64, 67, 0.3), 0px 1px 3px 1px rgba(60, 64, 67, 0.15);\n",
              "      fill: #174EA6;\n",
              "    }\n",
              "\n",
              "    [theme=dark] .colab-df-convert {\n",
              "      background-color: #3B4455;\n",
              "      fill: #D2E3FC;\n",
              "    }\n",
              "\n",
              "    [theme=dark] .colab-df-convert:hover {\n",
              "      background-color: #434B5C;\n",
              "      box-shadow: 0px 1px 3px 1px rgba(0, 0, 0, 0.15);\n",
              "      filter: drop-shadow(0px 1px 2px rgba(0, 0, 0, 0.3));\n",
              "      fill: #FFFFFF;\n",
              "    }\n",
              "  </style>\n",
              "\n",
              "      <script>\n",
              "        const buttonEl =\n",
              "          document.querySelector('#df-0f867e0c-c0de-40ad-9f74-46aa2d521d18 button.colab-df-convert');\n",
              "        buttonEl.style.display =\n",
              "          google.colab.kernel.accessAllowed ? 'block' : 'none';\n",
              "\n",
              "        async function convertToInteractive(key) {\n",
              "          const element = document.querySelector('#df-0f867e0c-c0de-40ad-9f74-46aa2d521d18');\n",
              "          const dataTable =\n",
              "            await google.colab.kernel.invokeFunction('convertToInteractive',\n",
              "                                                     [key], {});\n",
              "          if (!dataTable) return;\n",
              "\n",
              "          const docLinkHtml = 'Like what you see? Visit the ' +\n",
              "            '<a target=\"_blank\" href=https://colab.research.google.com/notebooks/data_table.ipynb>data table notebook</a>'\n",
              "            + ' to learn more about interactive tables.';\n",
              "          element.innerHTML = '';\n",
              "          dataTable['output_type'] = 'display_data';\n",
              "          await google.colab.output.renderOutput(dataTable, element);\n",
              "          const docLink = document.createElement('div');\n",
              "          docLink.innerHTML = docLinkHtml;\n",
              "          element.appendChild(docLink);\n",
              "        }\n",
              "      </script>\n",
              "    </div>\n",
              "  </div>\n",
              "  "
            ]
          },
          "metadata": {},
          "execution_count": 17
        }
      ],
      "source": [
        "prets.pivot_table(index='ville', columns='type', values='benefices', aggfunc='sum')"
      ]
    },
    {
      "cell_type": "markdown",
      "id": "b3cebac5",
      "metadata": {
        "id": "b3cebac5"
      },
      "source": [
        "Quelle ville semble la plus intéressante où développer les prêts immobiliers ?"
      ]
    },
    {
      "cell_type": "markdown",
      "id": "183d23e3",
      "metadata": {
        "id": "183d23e3"
      },
      "source": [
        "Félicitation pour être arrivé au bout ! Voici [la correction correspondante](https://colab.research.google.com/github/OpenClassrooms-Student-Center/fr-4452741-decouvrez-les-librairies-python-pour-la-data-science/blob/main/notebooks/P2/P2C4%20-%20Agr%C3%A9gez%20des%20donn%C3%A9es%20avec%20Pandas%20-%20correction.ipynb)."
      ]
    },
    {
      "cell_type": "code",
      "execution_count": null,
      "id": "852214c7",
      "metadata": {
        "id": "852214c7"
      },
      "outputs": [],
      "source": []
    }
  ],
  "metadata": {
    "kernelspec": {
      "display_name": "Python 3 (ipykernel)",
      "language": "python",
      "name": "python3"
    },
    "language_info": {
      "codemirror_mode": {
        "name": "ipython",
        "version": 3
      },
      "file_extension": ".py",
      "mimetype": "text/x-python",
      "name": "python",
      "nbconvert_exporter": "python",
      "pygments_lexer": "ipython3",
      "version": "3.9.13"
    },
    "colab": {
      "provenance": [],
      "include_colab_link": true
    }
  },
  "nbformat": 4,
  "nbformat_minor": 5
}